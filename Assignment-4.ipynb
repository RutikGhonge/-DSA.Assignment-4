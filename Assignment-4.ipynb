{
 "cells": [
  {
   "cell_type": "markdown",
   "id": "980c1cf9",
   "metadata": {},
   "source": [
    "# 1.Breadth First Traversal for a Graph"
   ]
  },
  {
   "cell_type": "code",
   "execution_count": 1,
   "id": "79a6e673",
   "metadata": {},
   "outputs": [
    {
     "name": "stdout",
     "output_type": "stream",
     "text": [
      "Following is Breadth First Traversal (starting from vertex 2)\n",
      "2 0 3 1 "
     ]
    }
   ],
   "source": [
    "from collections import defaultdict\n",
    "\n",
    "class Graph:\n",
    " \n",
    "    \n",
    "    def __init__(self):\n",
    " \n",
    "        \n",
    "        self.graph = defaultdict(list)\n",
    " \n",
    "    \n",
    "    def addEdge(self,u,v):\n",
    "        self.graph[u].append(v)\n",
    " \n",
    "    \n",
    "    def BFS(self, s):\n",
    " \n",
    "        \n",
    "        visited = [False] * (max(self.graph) + 1)\n",
    " \n",
    "        \n",
    "        queue = []\n",
    " \n",
    "        \n",
    "        queue.append(s)\n",
    "        visited[s] = True\n",
    " \n",
    "        while queue:\n",
    " \n",
    "            \n",
    "            s = queue.pop(0)\n",
    "            print (s, end = \" \")\n",
    " \n",
    "            \n",
    "            for i in self.graph[s]:\n",
    "                if visited[i] == False:\n",
    "                    queue.append(i)\n",
    "                    visited[i] = True\n",
    " \n",
    "\n",
    "g = Graph()\n",
    "g.addEdge(0, 1)\n",
    "g.addEdge(0, 2)\n",
    "g.addEdge(1, 2)\n",
    "g.addEdge(2, 0)\n",
    "g.addEdge(2, 3)\n",
    "g.addEdge(3, 3)\n",
    " \n",
    "print (\"Following is Breadth First Traversal\"\n",
    "                  \" (starting from vertex 2)\")\n",
    "g.BFS(2)\n",
    " \n"
   ]
  },
  {
   "cell_type": "code",
   "execution_count": null,
   "id": "34944a12",
   "metadata": {},
   "outputs": [],
   "source": []
  },
  {
   "cell_type": "markdown",
   "id": "a92b4216",
   "metadata": {},
   "source": [
    "# 2.Depth First Traversal for a Graph"
   ]
  },
  {
   "cell_type": "code",
   "execution_count": 3,
   "id": "aafbbae6",
   "metadata": {},
   "outputs": [
    {
     "name": "stdout",
     "output_type": "stream",
     "text": [
      "Following is DFS from (starting from vertex 2)\n",
      "2 0 1 3 "
     ]
    }
   ],
   "source": [
    "from collections import defaultdict\n",
    " \n",
    "# This class represents a directed graph using\n",
    "# adjacency list representation\n",
    " \n",
    " \n",
    "class Graph:\n",
    " \n",
    "    \n",
    "    def __init__(self):\n",
    " \n",
    "        \n",
    "        self.graph = defaultdict(list)\n",
    " \n",
    "    \n",
    "    def addEdge(self, u, v):\n",
    "        self.graph[u].append(v)\n",
    " \n",
    "    \n",
    "    def DFSUtil(self, v, visited):\n",
    " \n",
    "        \n",
    "        visited.add(v)\n",
    "        print(v, end=' ')\n",
    " \n",
    "        \n",
    "        for neighbour in self.graph[v]:\n",
    "            if neighbour not in visited:\n",
    "                self.DFSUtil(neighbour, visited)\n",
    " \n",
    "    \n",
    "    def DFS(self, v):\n",
    " \n",
    "        \n",
    "        visited = set()\n",
    " \n",
    "        \n",
    "        self.DFSUtil(v, visited)\n",
    " \n",
    "\n",
    "g = Graph()\n",
    "g.addEdge(0, 1)\n",
    "g.addEdge(0, 2)\n",
    "g.addEdge(1, 2)\n",
    "g.addEdge(2, 0)\n",
    "g.addEdge(2, 3)\n",
    "g.addEdge(3, 3)\n",
    " \n",
    "print(\"Following is DFS from (starting from vertex 2)\")\n",
    "g.DFS(2)\n",
    " "
   ]
  },
  {
   "cell_type": "code",
   "execution_count": null,
   "id": "f0729ce3",
   "metadata": {},
   "outputs": [],
   "source": []
  },
  {
   "cell_type": "markdown",
   "id": "5bf8280c",
   "metadata": {},
   "source": [
    "# 3.Count the number of nodes at given level in a tree using BFS"
   ]
  },
  {
   "cell_type": "code",
   "execution_count": 5,
   "id": "263f639e",
   "metadata": {},
   "outputs": [
    {
     "name": "stdout",
     "output_type": "stream",
     "text": [
      "3\n"
     ]
    }
   ],
   "source": [
    "from collections import deque\n",
    "  \n",
    "adj = [[] for i in range(1001)]\n",
    "  \n",
    "def addEdge(v, w):\n",
    "     \n",
    "    \n",
    "    adj[v].append(w)\n",
    "  \n",
    "    \n",
    "    adj[w].append(v)\n",
    "  \n",
    "def BFS(s, l):\n",
    "     \n",
    "    V = 100\n",
    "     \n",
    "    \n",
    "    visited = [False] * V\n",
    "    level = [0] * V\n",
    "  \n",
    "    for i in range(V):\n",
    "        visited[i] = False\n",
    "        level[i] = 0\n",
    "  \n",
    "    \n",
    "    queue = deque()\n",
    "  \n",
    "    \n",
    "    visited[s] = True\n",
    "    queue.append(s)\n",
    "    level[s] = 0\n",
    "  \n",
    "    while (len(queue) > 0):\n",
    "         \n",
    "        \n",
    "        s = queue.popleft()\n",
    "        \n",
    "        for i in adj[s]:\n",
    "            if (not visited[i]):\n",
    "  \n",
    "                \n",
    "                level[i] = level[s] + 1\n",
    "                visited[i] = True\n",
    "                queue.append(i)\n",
    "  \n",
    "    count = 0\n",
    "    for i in range(V):\n",
    "        if (level[i] == l):\n",
    "            count += 1\n",
    "             \n",
    "    return count\n",
    "  \n",
    "\n",
    "if __name__ == '__main__':\n",
    "     \n",
    "    # Create a graph given\n",
    "    # in the above diagram\n",
    "    addEdge(0, 1)\n",
    "    addEdge(0, 2)\n",
    "    addEdge(1, 3)\n",
    "    addEdge(2, 4)\n",
    "    addEdge(2, 5)\n",
    "  \n",
    "    level = 2\n",
    "  \n",
    "    print(BFS(0, level))\n",
    "    "
   ]
  },
  {
   "cell_type": "code",
   "execution_count": null,
   "id": "332d638d",
   "metadata": {},
   "outputs": [],
   "source": []
  },
  {
   "cell_type": "markdown",
   "id": "9cf83460",
   "metadata": {},
   "source": [
    "# 4.Count number of trees in a forest"
   ]
  },
  {
   "cell_type": "code",
   "execution_count": 6,
   "id": "fe452185",
   "metadata": {},
   "outputs": [
    {
     "name": "stdout",
     "output_type": "stream",
     "text": [
      "2\n"
     ]
    }
   ],
   "source": [
    "\n",
    "def addEdge(adj, u, v):\n",
    "    adj[u].append(v)\n",
    "    adj[v].append(u)\n",
    "\n",
    "\n",
    "def DFSUtil(u, adj, visited):\n",
    "    visited[u] = True\n",
    "    for i in range(len(adj[u])):\n",
    "        if (visited[adj[u][i]] == False):\n",
    "            DFSUtil(adj[u][i], adj, visited)\n",
    "\n",
    "\n",
    "def countTrees(adj, V):\n",
    "    visited = [False] * V\n",
    "    res = 0\n",
    "    for u in range(V):\n",
    "        if (visited[u] == False):\n",
    "            DFSUtil(u, adj, visited)\n",
    "            res += 1\n",
    "    return res\n",
    "\n",
    "\n",
    "if __name__ == '__main__':\n",
    "\n",
    "    V = 5\n",
    "    adj = [[] for i in range(V)]\n",
    "    addEdge(adj, 0, 1)\n",
    "    addEdge(adj, 0, 2)\n",
    "    addEdge(adj, 3, 4)\n",
    "    print(countTrees(adj, V))\n",
    "\n",
    "\n"
   ]
  },
  {
   "cell_type": "code",
   "execution_count": null,
   "id": "5ae99567",
   "metadata": {},
   "outputs": [],
   "source": []
  },
  {
   "cell_type": "markdown",
   "id": "19a6b5e2",
   "metadata": {},
   "source": [
    "# 5.Detect Cycle in a Directed Graph"
   ]
  },
  {
   "cell_type": "code",
   "execution_count": 8,
   "id": "66760ce8",
   "metadata": {},
   "outputs": [
    {
     "name": "stdout",
     "output_type": "stream",
     "text": [
      "Graph has a cycle\n"
     ]
    }
   ],
   "source": [
    "\n",
    "\n",
    "from collections import defaultdict\n",
    "\n",
    "class Graph():\n",
    "    def __init__(self,vertices):\n",
    "        self.graph = defaultdict(list)\n",
    "        self.V = vertices\n",
    "\n",
    "    def addEdge(self,u,v):\n",
    "        self.graph[u].append(v)\n",
    "\n",
    "    def isCyclicUtil(self, v, visited, recStack):\n",
    "\n",
    "        \n",
    "        visited[v] = True\n",
    "        recStack[v] = True\n",
    "\n",
    "        \n",
    "        for neighbour in self.graph[v]:\n",
    "            if visited[neighbour] == False:\n",
    "                if self.isCyclicUtil(neighbour, visited, recStack) == True:\n",
    "                    return True\n",
    "            elif recStack[neighbour] == True:\n",
    "                return True\n",
    "\n",
    "        \n",
    "        recStack[v] = False\n",
    "        return False\n",
    "\n",
    "    \n",
    "    def isCyclic(self):\n",
    "        visited = [False] * (self.V + 1)\n",
    "        recStack = [False] * (self.V + 1)\n",
    "        for node in range(self.V):\n",
    "            if visited[node] == False:\n",
    "                if self.isCyclicUtil(node,visited,recStack) == True:\n",
    "                    return True\n",
    "        return False\n",
    "\n",
    "g = Graph(4)\n",
    "g.addEdge(0, 1)\n",
    "g.addEdge(0, 2)\n",
    "g.addEdge(1, 2)\n",
    "g.addEdge(2, 0)\n",
    "g.addEdge(2, 3)\n",
    "g.addEdge(3, 3)\n",
    "if g.isCyclic() == 1:\n",
    "    print (\"Graph has a cycle\")\n",
    "else:\n",
    "    print (\"Graph has no cycle\")\n",
    "\n",
    "\n"
   ]
  },
  {
   "cell_type": "code",
   "execution_count": null,
   "id": "291a1cea",
   "metadata": {},
   "outputs": [],
   "source": []
  },
  {
   "cell_type": "markdown",
   "id": "87a76479",
   "metadata": {},
   "source": [
    "# **Implement n-Queen’s Problem"
   ]
  },
  {
   "cell_type": "code",
   "execution_count": 9,
   "id": "a3f50ebc",
   "metadata": {},
   "outputs": [
    {
     "name": "stdout",
     "output_type": "stream",
     "text": [
      "0 0 1 0 \n",
      "1 0 0 0 \n",
      "0 0 0 1 \n",
      "0 1 0 0 \n"
     ]
    },
    {
     "data": {
      "text/plain": [
       "True"
      ]
     },
     "execution_count": 9,
     "metadata": {},
     "output_type": "execute_result"
    }
   ],
   "source": [
    "\n",
    "global N\n",
    "N = 4\n",
    "\n",
    "def printSolution(board):\n",
    "    for i in range(N):\n",
    "        for j in range(N):\n",
    "            print (board[i][j], end = \" \")\n",
    "        print()\n",
    "\n",
    "\n",
    "def isSafe(board, row, col):\n",
    "\n",
    "    # Check this row on left side\n",
    "    for i in range(col):\n",
    "        if board[row][i] == 1:\n",
    "            return False\n",
    "\n",
    "    # Check upper diagonal on left side\n",
    "    for i, j in zip(range(row, -1, -1),\n",
    "                    range(col, -1, -1)):\n",
    "        if board[i][j] == 1:\n",
    "            return False\n",
    "\n",
    "    # Check lower diagonal on left side\n",
    "    for i, j in zip(range(row, N, 1),\n",
    "                    range(col, -1, -1)):\n",
    "        if board[i][j] == 1:\n",
    "            return False\n",
    "\n",
    "    return True\n",
    "\n",
    "def solveNQUtil(board, col):\n",
    "\n",
    "    \n",
    "    if col >= N:\n",
    "        return True\n",
    "\n",
    "    \n",
    "    for i in range(N):\n",
    "\n",
    "        if isSafe(board, i, col):\n",
    "\n",
    "            \n",
    "            board[i][col] = 1\n",
    "\n",
    "            \n",
    "            if solveNQUtil(board, col + 1) == True:\n",
    "                return True\n",
    "\n",
    "            \n",
    "            board[i][col] = 0\n",
    "\n",
    "    \n",
    "    return False\n",
    "\n",
    "\n",
    "def solveNQ():\n",
    "    board = [ [0, 0, 0, 0],\n",
    "            [0, 0, 0, 0],\n",
    "            [0, 0, 0, 0],\n",
    "            [0, 0, 0, 0] ]\n",
    "\n",
    "    if solveNQUtil(board, 0) == False:\n",
    "        print (\"Solution does not exist\")\n",
    "        return False\n",
    "\n",
    "    printSolution(board)\n",
    "    return True\n",
    "\n",
    "\n",
    "solveNQ()\n",
    "\n"
   ]
  },
  {
   "cell_type": "code",
   "execution_count": null,
   "id": "b5fceb13",
   "metadata": {},
   "outputs": [],
   "source": []
  }
 ],
 "metadata": {
  "kernelspec": {
   "display_name": "Python 3 (ipykernel)",
   "language": "python",
   "name": "python3"
  },
  "language_info": {
   "codemirror_mode": {
    "name": "ipython",
    "version": 3
   },
   "file_extension": ".py",
   "mimetype": "text/x-python",
   "name": "python",
   "nbconvert_exporter": "python",
   "pygments_lexer": "ipython3",
   "version": "3.10.0"
  }
 },
 "nbformat": 4,
 "nbformat_minor": 5
}
